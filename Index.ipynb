{
 "metadata": {
  "name": "",
  "signature": "sha256:7d9a2ba8c61f4607def5c277c7f450790982f63f79b6b4110cf811631a54de22"
 },
 "nbformat": 3,
 "nbformat_minor": 0,
 "worksheets": [
  {
   "cells": [
    {
     "cell_type": "markdown",
     "metadata": {},
     "source": [
      "# IPython.parallel IPython\u5e76\u884c\u8ba1\u7b97\n",
      "\n",
      "## Interactive (parallel) Python\n",
      "\n",
      "**\u8d75\u4eae 1402120821**\n"
     ]
    },
    {
     "cell_type": "markdown",
     "metadata": {},
     "source": [
      "## Outline\n",
      "- [Python\u8bed\u8a00](python.ipynb)\n",
      "- [Ipython](ipython.ipynb)\n",
      "- [Examples](examples.ipynb)"
     ]
    }
   ],
   "metadata": {}
  }
 ]
}