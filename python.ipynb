{
 "metadata": {
  "name": "",
  "signature": "sha256:c8d7666170ee2f1cd09924beaaace773c585b2d0da29013d7a8bd48d946b931c"
 },
 "nbformat": 3,
 "nbformat_minor": 0,
 "worksheets": [
  {
   "cells": [
    {
     "cell_type": "heading",
     "level": 1,
     "metadata": {},
     "source": [
      "Python\u8bed\u8a00"
     ]
    },
    {
     "cell_type": "markdown",
     "metadata": {},
     "source": [
      "###python\u662f\u4e00\u79cd\u901a\u7528\u7f16\u7a0b\u8bed\u8a00\n",
      "\n",
      "* \u6587\u5b57\u5904\u7406\n",
      "* \u79d1\u5b66\u8ba1\u7b97\n",
      "* gui\n",
      "* \u6e38\u620f\n",
      "* \u7f51\u7edc\u7f16\u7a0b\n",
      "* \u7cfb\u7edf\u7ba1\u7406\n",
      "* etc\n"
     ]
    },
    {
     "cell_type": "markdown",
     "metadata": {},
     "source": [
      "###\u4e3a\u4ec0\u4e48\u4f7f\u7528python\n",
      "\n",
      "* python \u7b80\u6d01 \u6613\u5b66 \u6613\u7528\n",
      "* python \u5f00\u6e90 \u514d\u8d39\n",
      "* \u5f3a\u5927\u7684\u6807\u51c6\u5e93\u4ee5\u53ca\u7b2c\u4e09\u65b9\u5e93\n",
      "* \u8de8\u5e73\u53f0\n",
      "* etc"
     ]
    },
    {
     "cell_type": "heading",
     "level": 3,
     "metadata": {},
     "source": [
      "Examples:"
     ]
    },
    {
     "cell_type": "heading",
     "level": 4,
     "metadata": {},
     "source": [
      "Hello world"
     ]
    },
    {
     "cell_type": "code",
     "collapsed": false,
     "input": [
      "print 'hello world.'"
     ],
     "language": "python",
     "metadata": {},
     "outputs": []
    },
    {
     "cell_type": "heading",
     "level": 4,
     "metadata": {},
     "source": [
      "\u5f31\u7c7b\u578b \u811a\u672c\u8bed\u8a00 \u53d8\u91cf\u65e0\u9700\u58f0\u660e"
     ]
    },
    {
     "cell_type": "code",
     "collapsed": false,
     "input": [
      "a = 10"
     ],
     "language": "python",
     "metadata": {},
     "outputs": []
    },
    {
     "cell_type": "code",
     "collapsed": false,
     "input": [
      "print a"
     ],
     "language": "python",
     "metadata": {},
     "outputs": []
    },
    {
     "cell_type": "heading",
     "level": 4,
     "metadata": {},
     "source": [
      "for \u5faa\u73af"
     ]
    },
    {
     "cell_type": "code",
     "collapsed": false,
     "input": [
      "for i in range(5):\n",
      "    print i"
     ],
     "language": "python",
     "metadata": {},
     "outputs": []
    },
    {
     "cell_type": "heading",
     "level": 4,
     "metadata": {},
     "source": [
      "list"
     ]
    },
    {
     "cell_type": "code",
     "collapsed": false,
     "input": [
      "numbers = ['zero', 'one', 'two']"
     ],
     "language": "python",
     "metadata": {},
     "outputs": []
    },
    {
     "cell_type": "code",
     "collapsed": false,
     "input": [
      "print numbers[2]"
     ],
     "language": "python",
     "metadata": {},
     "outputs": []
    },
    {
     "cell_type": "heading",
     "level": 4,
     "metadata": {},
     "source": [
      "Dictionary"
     ]
    },
    {
     "cell_type": "code",
     "collapsed": false,
     "input": [
      "a = { '010': 'beijing', '029': 'xian' }"
     ],
     "language": "python",
     "metadata": {},
     "outputs": []
    },
    {
     "cell_type": "code",
     "collapsed": false,
     "input": [
      "print a['029']"
     ],
     "language": "python",
     "metadata": {},
     "outputs": []
    },
    {
     "cell_type": "heading",
     "level": 4,
     "metadata": {},
     "source": [
      "\u51fd\u6570"
     ]
    },
    {
     "cell_type": "code",
     "collapsed": false,
     "input": [
      "def add(a, b):\n",
      "    return a + b"
     ],
     "language": "python",
     "metadata": {},
     "outputs": []
    },
    {
     "cell_type": "code",
     "collapsed": false,
     "input": [
      "print add(2, 3)"
     ],
     "language": "python",
     "metadata": {},
     "outputs": []
    }
   ],
   "metadata": {}
  }
 ]
}