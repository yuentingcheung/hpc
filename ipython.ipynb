{
 "metadata": {
  "name": "",
  "signature": "sha256:570ae2983e6e4a928b0c50a152b41d0d90685a8cbc59c826bdca85675ee02223"
 },
 "nbformat": 3,
 "nbformat_minor": 0,
 "worksheets": [
  {
   "cells": [
    {
     "cell_type": "markdown",
     "metadata": {},
     "source": [
      "# IPython\n",
      "\n",
      "http://ipython.org/\n",
      "\n",
      "\u6700\u521d\u4ee5\u66ff\u6362python\u6807\u51c6REPL\u547d\u4ee4\u884c\u4e3a\u76ee\u7684\u53d1\u8d77\u7684\u5f00\u6e90\u9879\u76ee\u3002\n",
      "\u73b0\u5728\u5df2\u7ecf\u5b8c\u5168\u8d85\u8d8a\u4e86\u4e4b\u524d\u7684\u76ee\u6807\u3002\n",
      "\n",
      "\u73b0\u5728\u4e3b\u8981\u5206\u4e3a\u4e09\u5927\u6a21\u5757\uff1a\n",
      "\n",
      "* \u4ea4\u4e92\uff08i\uff09\u5f0fshell\n",
      "* ipython notebook \n",
      "* \u5e76\u884c\u8ba1\u7b97"
     ]
    },
    {
     "cell_type": "markdown",
     "metadata": {},
     "source": [
      "# Overview and getting started\n",
      "<img src=\"files/figs/wideView.png\" class=\"float-diagram\"/>\n",
      "\n",
      "## Introduction\n",
      "\n",
      "\u4e0a\u56fe\u5c55\u793a\u4e86ipython\u5e76\u884c\u5206\u5e03\u5f0f\u8ba1\u7b97\u7684\u67b6\u6784\u8bbe\u8ba1\u56fe\u3002 \u5b83\u63d0\u4f9b\u4e86\u591a\u79cd\u7684\u5e76\u884c\u8ba1\u7b97\u8303\u5f0f\uff1a\n",
      "\n",
      "-   Single program, multiple data (SPMD) parallelism\n",
      "-   Multiple program, multiple data (MPMD) parallelism\n",
      "-   Message passing using MPI or \u00d8MQ\n",
      "-   Task farming\n",
      "-   Data parallel\n",
      "-   Coordination of distributed processes\n",
      "-   Combinations of these approaches\n",
      "-   Custom user defined approaches\n",
      "\n",
      "`IPython.parallel`\u4f7f\u7528\u8303\u4f8b:\n",
      "\n",
      "-   Quickly parallelize algorithms that are embarrassingly parallel\n",
      "    using a number of simple approaches. Many simple things can be\n",
      "    parallelized interactively in one or two lines of code.\n",
      "\n",
      "-   Steer traditional MPI applications on a supercomputer from an\n",
      "    IPython session on your laptop.\n",
      "\n",
      "-   Analyze and visualize large datasets (that could be remote and/or\n",
      "    distributed) interactively using IPython and tools like\n",
      "    matplotlib/TVTK.\n",
      "\n",
      "-   Develop, test and debug new parallel algorithms (that may use MPI or PyZMQ)\n",
      "    interactively.\n",
      "\n",
      "-   Start a parallel job on your cluster and then have a remote\n",
      "    collaborator connect to it and pull back data into their local\n",
      "    IPython session for plotting and analysis.\n",
      "\n",
      "-   Run a set of tasks on a set of CPUs using dynamic load balancing."
     ]
    },
    {
     "cell_type": "markdown",
     "metadata": {},
     "source": [
      "## \u7ec4\u6210\n",
      "\n",
      "Ipython\u5e76\u884c\u8ba1\u7b97\u7531\u56db\u90e8\u5206\u7ec4\u6210\uff1a\n",
      "\n",
      "-   The IPython engine\n",
      "-   The IPython hub\n",
      "-   The IPython schedulers\n",
      "-   The cluster client\n"
     ]
    },
    {
     "cell_type": "markdown",
     "metadata": {},
     "source": [
      "### IPython engine\n",
      "\n",
      "The IPython engine \u662fpython\u8fdb\u7a0b\u5b9e\u4f8b\uff0c\u5b83\u53ef\u4ee5\u901a\u8fc7\u7f51\u7edc\u8fd0\u884cpython\u7a0b\u5e8f\u3002  \n",
      "\u591a\u4e2aIPython engine\u6784\u6210\u4e86ipython\u5e76\u884c\u8ba1\u7b97\u7684\u57fa\u7840\u3002 \n",
      "\u5b83\u7684\u8fd0\u884c\u662fblock\u7684\uff0c\u5f02\u6b65\u7531controller\u89e3\u51b3\u3002"
     ]
    },
    {
     "cell_type": "markdown",
     "metadata": {},
     "source": [
      "### IPython controller\n",
      "<img src=\"files/figs/wideView.png\" class=\"float-diagram\"/>\n",
      "\n",
      "The IPython controller \u63d0\u4f9bengine\u63a5\u53e3\u3002\u5b83\u662fengine\u4e0eclient\u7684\u4e2d\u95f4\u5a92\u4ecb\u3002\n",
      "The controller \u5305\u542b\u4e00\u4e2a `Hub` \u8ddf\u4e00\u7cfb\u5217\n",
      "`Schedulers`\u3002\n",
      "\n",
      "The controller \u63d0\u4f9b\u4e86\u4e24\u79cd\u63a5\u53e3\uff0c\u88ab\u79f0\u4e3aview\uff1a\n",
      "\n",
      "-   A **Direct** interface, where engines are addressed explicitly.\u76f4\u63a5\u663e\u5f0f\u64cd\u4f5cEngine\u3002\n",
      "-   A **LoadBalanced** interface, where the Scheduler is trusted with\n",
      "    assigning work to appropriate engines.\u7531Scheduler\u5206\u914d\u4efb\u52a1\u7ed9Engine\u3002"
     ]
    },
    {
     "cell_type": "markdown",
     "metadata": {},
     "source": [
      "#### The Hub\n",
      "\n",
      "Hub\u8d1f\u8d23\u8fde\u63a5engine, schedulers, clients, \u4fdd\u5b58\u4efb\u52a1\u8ddf\u7ed3\u679c\u3002"
     ]
    },
    {
     "cell_type": "markdown",
     "metadata": {},
     "source": [
      "#### Schedulers\n",
      "\n",
      "\u6240\u6709\u5728Engine\u4e0a\u6267\u884c\u7684\u4efb\u52a1\u90fd\u8981\u901a\u8fc7Schedulers\u3002\n",
      "Engine\u662fblock\u6267\u884c\u7684\uff0cSchedulers\u4f5c\u4e3a\u4e2d\u95f4\u5c42\u66b4\u9732\u51fa\u5f02\u6b65\u63a5\u53e3\u3002 \u901a\u8fc7zmq\u4e0eEngine\u901a\u4fe1\u3002"
     ]
    },
    {
     "cell_type": "markdown",
     "metadata": {},
     "source": [
      "## IPython client and views\n",
      "\n",
      "`Client`\u8d1f\u8d23\u7528\u6237\u5230\u96c6\u7fa4\u7684\u8fde\u63a5. \u4e0d\u540c\u7684\u6267\u884c\u6a21\u578b\u4f1a\u6709\u4e0d\u540c\u7684`View`.\n",
      "views\u63d0\u4f9b\u4e86\u7528\u6237\u5bf9Engine\u7684\u4f7f\u7528\u63a5\u53e3. \u9ed8\u8ba4\u63d0\u4f9b\u4e862\u79cdview\uff1a\n",
      "\n",
      "-   The `DirectView` class for explicit addressing.\n",
      "-   The `LoadBalancedView` class for destination-agnostic\n",
      "    scheduling."
     ]
    },
    {
     "cell_type": "markdown",
     "metadata": {},
     "source": [
      "## \u542f\u52a8 the IPython controller and engines\n",
      "\n",
      "\u5728\u5b89\u88c5\u597dipython\u540e \u5728\u547d\u4ee4\u884c\u8fd0\u884c\uff1a\n",
      "\n",
      "    $ ipcluster start -n 4\n",
      "\n",
      "\u542f\u52a8\u4ee5\u540e\u6211\u4eec\u6765\u505a\u4e00\u4e2a\u5c0fdemo\uff1a"
     ]
    },
    {
     "cell_type": "heading",
     "level": 4,
     "metadata": {},
     "source": [
      "Demo"
     ]
    },
    {
     "cell_type": "code",
     "collapsed": false,
     "input": [
      "from IPython import parallel\n",
      "rc = parallel.Client()\n",
      "rc.block = True"
     ],
     "language": "python",
     "metadata": {},
     "outputs": [],
     "prompt_number": 1
    },
    {
     "cell_type": "code",
     "collapsed": false,
     "input": [
      "rc.ids"
     ],
     "language": "python",
     "metadata": {},
     "outputs": [
      {
       "metadata": {},
       "output_type": "pyout",
       "prompt_number": 2,
       "text": [
        "[0, 1, 2, 3]"
       ]
      }
     ],
     "prompt_number": 2
    },
    {
     "cell_type": "code",
     "collapsed": false,
     "input": [
      "rc[:].apply_sync(lambda : \"Hello, World\")"
     ],
     "language": "python",
     "metadata": {},
     "outputs": [
      {
       "metadata": {},
       "output_type": "pyout",
       "prompt_number": 3,
       "text": [
        "['Hello, World', 'Hello, World', 'Hello, World', 'Hello, World']"
       ]
      }
     ],
     "prompt_number": 3
    },
    {
     "cell_type": "markdown",
     "metadata": {},
     "source": [
      "##\u66f4\u591a\u4f8b\u5b50[Examples](Examples.ipynb)"
     ]
    }
   ],
   "metadata": {}
  }
 ]
}